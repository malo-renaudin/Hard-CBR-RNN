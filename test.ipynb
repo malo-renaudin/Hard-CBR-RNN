{
 "cells": [
  {
   "cell_type": "code",
   "execution_count": 2,
   "metadata": {},
   "outputs": [
    {
     "name": "stdout",
     "output_type": "stream",
     "text": [
      "<class 'tokenizer.WordTokenizer'>\n"
     ]
    }
   ],
   "source": [
    "import pickle\n",
    "\n",
    "with open(\"cbr_lightning/tokenizer.pkl\", \"rb\") as f:\n",
    "    data = pickle.load(f)\n",
    "\n",
    "print(type(data))\n"
   ]
  },
  {
   "cell_type": "code",
   "execution_count": 9,
   "metadata": {},
   "outputs": [
    {
     "name": "stdout",
     "output_type": "stream",
     "text": [
      "Vocabulary built with 49999 tokens.\n",
      "Tokenizer saved to tokenizer.pkl\n"
     ]
    }
   ],
   "source": [
    "from word_tok import WordTokenizer\n",
    "import datasets\n",
    "\n",
    "# Load raw data\n",
    "raw = datasets.load_from_disk(\"cbr_lightning/wikitext-103-local\")\n",
    "train_texts = [t for t in raw['train']['text'] if t.strip()]\n",
    "\n",
    "# Build tokenizer\n",
    "tokenizer = WordTokenizer(vocab_size=50000, min_freq=2)\n",
    "tokenizer.build_vocab(train_texts)\n",
    "\n",
    "# Save tokenizer\n",
    "tokenizer.save(\"tokenizer.pkl\")\n",
    "\n"
   ]
  },
  {
   "cell_type": "code",
   "execution_count": 6,
   "metadata": {},
   "outputs": [],
   "source": [
    "filepath = './tokenizer.pkl'\n",
    "with open(filepath, 'rb') as f:\n",
    "        data = pickle.load(f)"
   ]
  },
  {
   "cell_type": "code",
   "execution_count": 10,
   "metadata": {},
   "outputs": [
    {
     "name": "stdout",
     "output_type": "stream",
     "text": [
      "Tokenizer loaded from ./tokenizer.pkl\n"
     ]
    }
   ],
   "source": [
    "from word_tok import WordTokenizer  # your local tokenizer.py\n",
    "\n",
    "tokenizer = WordTokenizer()\n",
    "tokenizer.load(filepath)"
   ]
  },
  {
   "cell_type": "code",
   "execution_count": 11,
   "metadata": {},
   "outputs": [
    {
     "name": "stdout",
     "output_type": "stream",
     "text": [
      "DatasetDict({\n",
      "    test: Dataset({\n",
      "        features: ['text'],\n",
      "        num_rows: 4358\n",
      "    })\n",
      "    train: Dataset({\n",
      "        features: ['text'],\n",
      "        num_rows: 1801350\n",
      "    })\n",
      "    validation: Dataset({\n",
      "        features: ['text'],\n",
      "        num_rows: 3760\n",
      "    })\n",
      "})\n",
      "101425671\n"
     ]
    }
   ],
   "source": [
    "import datasets\n",
    "raw = datasets.load_from_disk(\"cbr_lightning/wikitext-103-local\")\n",
    "print(raw)\n",
    "print(sum(len(t.split()) for t in raw[\"train\"][\"text\"]))\n"
   ]
  },
  {
   "cell_type": "code",
   "execution_count": null,
   "metadata": {},
   "outputs": [],
   "source": []
  }
 ],
 "metadata": {
  "kernelspec": {
   "display_name": "leaps3",
   "language": "python",
   "name": "python3"
  },
  "language_info": {
   "codemirror_mode": {
    "name": "ipython",
    "version": 3
   },
   "file_extension": ".py",
   "mimetype": "text/x-python",
   "name": "python",
   "nbconvert_exporter": "python",
   "pygments_lexer": "ipython3",
   "version": "3.9.18"
  }
 },
 "nbformat": 4,
 "nbformat_minor": 2
}
